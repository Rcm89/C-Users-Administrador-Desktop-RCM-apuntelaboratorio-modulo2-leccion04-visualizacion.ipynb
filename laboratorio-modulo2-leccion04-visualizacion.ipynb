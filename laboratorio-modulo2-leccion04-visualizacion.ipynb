{
 "cells": [
  {
   "cell_type": "markdown",
   "id": "efdac2a2",
   "metadata": {},
   "source": [
    "<div style=\"text-align: center;\">\n",
    "  <img src=\"https://github.com/Hack-io-Data/Imagenes/blob/main/01-LogosHackio/logo_naranja@4x.png?raw=true\" alt=\"esquema\" />\n",
    "</div>"
   ]
  },
  {
   "cell_type": "markdown",
   "id": "e75492a7",
   "metadata": {},
   "source": [
    "# Laboratorio Visualización\n",
    "\n",
    "En este laboratorio usaremos el DataFrame de Netflix completo creado en los primeros laboratorios de Pandas. \n",
    "\n",
    "**Instrucciones:**\n",
    "\n",
    "1. Lee cuidadosamente el enunciado de cada ejercicio.\n",
    "\n",
    "2. Implementa la solución en la celda de código proporcionada.\n",
    "\n",
    "3. Debes incluir después de cada gráfica la interpretación de las mismas en una celda de markdown. "
   ]
  },
  {
   "cell_type": "code",
   "execution_count": 1,
   "id": "68554f27",
   "metadata": {},
   "outputs": [
    {
     "data": {
      "text/html": [
       "<div>\n",
       "<style scoped>\n",
       "    .dataframe tbody tr th:only-of-type {\n",
       "        vertical-align: middle;\n",
       "    }\n",
       "\n",
       "    .dataframe tbody tr th {\n",
       "        vertical-align: top;\n",
       "    }\n",
       "\n",
       "    .dataframe thead th {\n",
       "        text-align: right;\n",
       "    }\n",
       "</style>\n",
       "<table border=\"1\" class=\"dataframe\">\n",
       "  <thead>\n",
       "    <tr style=\"text-align: right;\">\n",
       "      <th></th>\n",
       "      <th>Unnamed: 0</th>\n",
       "      <th>Title</th>\n",
       "      <th>Genre</th>\n",
       "      <th>Premiere</th>\n",
       "      <th>Runtime</th>\n",
       "      <th>IMDB Score</th>\n",
       "      <th>Language</th>\n",
       "      <th>show_id</th>\n",
       "      <th>type</th>\n",
       "      <th>title</th>\n",
       "      <th>director</th>\n",
       "      <th>cast</th>\n",
       "      <th>country</th>\n",
       "      <th>date_added</th>\n",
       "      <th>release_year</th>\n",
       "      <th>rating</th>\n",
       "      <th>duration</th>\n",
       "      <th>listed_in</th>\n",
       "      <th>description</th>\n",
       "    </tr>\n",
       "  </thead>\n",
       "  <tbody>\n",
       "    <tr>\n",
       "      <th>0</th>\n",
       "      <td>0</td>\n",
       "      <td>Enter the Anime</td>\n",
       "      <td>Documentary</td>\n",
       "      <td>August 5, 2019</td>\n",
       "      <td>58</td>\n",
       "      <td>2.5</td>\n",
       "      <td>English/Japanese</td>\n",
       "      <td>s3624</td>\n",
       "      <td>Movie</td>\n",
       "      <td>Enter the Anime</td>\n",
       "      <td>Alex Burunova</td>\n",
       "      <td>Kozo Morishita, Yoko Takahashi, Shinji Aramaki...</td>\n",
       "      <td>United States, Japan</td>\n",
       "      <td>August 5, 2019</td>\n",
       "      <td>2019</td>\n",
       "      <td>TV-MA</td>\n",
       "      <td>59 min</td>\n",
       "      <td>Documentaries, International Movies</td>\n",
       "      <td>What is anime? Through deep-dives with notable...</td>\n",
       "    </tr>\n",
       "    <tr>\n",
       "      <th>1</th>\n",
       "      <td>1</td>\n",
       "      <td>Dark Forces</td>\n",
       "      <td>Thriller</td>\n",
       "      <td>August 21, 2020</td>\n",
       "      <td>81</td>\n",
       "      <td>2.6</td>\n",
       "      <td>Spanish</td>\n",
       "      <td>s2105</td>\n",
       "      <td>Movie</td>\n",
       "      <td>Dark Forces</td>\n",
       "      <td>Bernardo Arellano</td>\n",
       "      <td>Tenoch Huerta, Eréndira Ibarra, Dale Carley, A...</td>\n",
       "      <td>Mexico</td>\n",
       "      <td>August 21, 2020</td>\n",
       "      <td>2020</td>\n",
       "      <td>TV-MA</td>\n",
       "      <td>81 min</td>\n",
       "      <td>Horror Movies, Independent Movies, Internation...</td>\n",
       "      <td>In search of his sister, a renegade criminal s...</td>\n",
       "    </tr>\n",
       "    <tr>\n",
       "      <th>2</th>\n",
       "      <td>2</td>\n",
       "      <td>The App</td>\n",
       "      <td>Science fiction/Drama</td>\n",
       "      <td>December 26, 2019</td>\n",
       "      <td>79</td>\n",
       "      <td>2.6</td>\n",
       "      <td>Italian</td>\n",
       "      <td>s3095</td>\n",
       "      <td>Movie</td>\n",
       "      <td>The App</td>\n",
       "      <td>Elisa Fuksas</td>\n",
       "      <td>Vincenzo Crea, Jessica Cressy, Greta Scarano, ...</td>\n",
       "      <td>Italy</td>\n",
       "      <td>December 26, 2019</td>\n",
       "      <td>2019</td>\n",
       "      <td>TV-MA</td>\n",
       "      <td>79 min</td>\n",
       "      <td>Dramas, Independent Movies, International Movies</td>\n",
       "      <td>While in Rome to shoot his first movie, actor ...</td>\n",
       "    </tr>\n",
       "    <tr>\n",
       "      <th>3</th>\n",
       "      <td>3</td>\n",
       "      <td>The Open House</td>\n",
       "      <td>Horror thriller</td>\n",
       "      <td>January 19, 2018</td>\n",
       "      <td>94</td>\n",
       "      <td>3.2</td>\n",
       "      <td>English</td>\n",
       "      <td>s5074</td>\n",
       "      <td>Movie</td>\n",
       "      <td>The Open House</td>\n",
       "      <td>Matt Angel, Suzanne Coote</td>\n",
       "      <td>Dylan Minnette, Piercey Dalton, Patricia Bethu...</td>\n",
       "      <td>Canada, United States</td>\n",
       "      <td>January 19, 2018</td>\n",
       "      <td>2018</td>\n",
       "      <td>TV-MA</td>\n",
       "      <td>NaN</td>\n",
       "      <td>Horror Movies, Thrillers</td>\n",
       "      <td>Following a tragedy, a mother and her teen son...</td>\n",
       "    </tr>\n",
       "    <tr>\n",
       "      <th>4</th>\n",
       "      <td>4</td>\n",
       "      <td>Kaali Khuhi</td>\n",
       "      <td>Mystery</td>\n",
       "      <td>October 30, 2020</td>\n",
       "      <td>90</td>\n",
       "      <td>3.4</td>\n",
       "      <td>Hindi</td>\n",
       "      <td>s1778</td>\n",
       "      <td>Movie</td>\n",
       "      <td>Kaali Khuhi</td>\n",
       "      <td>Terrie Samundra</td>\n",
       "      <td>Shabana Azmi, Leela Samson, Sanjeeda Sheikh, S...</td>\n",
       "      <td>India</td>\n",
       "      <td>October 30, 2020</td>\n",
       "      <td>2020</td>\n",
       "      <td>TV-14</td>\n",
       "      <td>NaN</td>\n",
       "      <td>Horror Movies, International Movies</td>\n",
       "      <td>When a restless spirit curses a village that h...</td>\n",
       "    </tr>\n",
       "  </tbody>\n",
       "</table>\n",
       "</div>"
      ],
      "text/plain": [
       "   Unnamed: 0            Title                  Genre           Premiere  \\\n",
       "0           0  Enter the Anime            Documentary     August 5, 2019   \n",
       "1           1      Dark Forces               Thriller    August 21, 2020   \n",
       "2           2          The App  Science fiction/Drama  December 26, 2019   \n",
       "3           3   The Open House        Horror thriller   January 19, 2018   \n",
       "4           4      Kaali Khuhi                Mystery   October 30, 2020   \n",
       "\n",
       "   Runtime  IMDB Score          Language show_id   type            title  \\\n",
       "0       58         2.5  English/Japanese   s3624  Movie  Enter the Anime   \n",
       "1       81         2.6           Spanish   s2105  Movie      Dark Forces   \n",
       "2       79         2.6           Italian   s3095  Movie          The App   \n",
       "3       94         3.2           English   s5074  Movie   The Open House   \n",
       "4       90         3.4             Hindi   s1778  Movie      Kaali Khuhi   \n",
       "\n",
       "                    director  \\\n",
       "0              Alex Burunova   \n",
       "1          Bernardo Arellano   \n",
       "2               Elisa Fuksas   \n",
       "3  Matt Angel, Suzanne Coote   \n",
       "4            Terrie Samundra   \n",
       "\n",
       "                                                cast                country  \\\n",
       "0  Kozo Morishita, Yoko Takahashi, Shinji Aramaki...   United States, Japan   \n",
       "1  Tenoch Huerta, Eréndira Ibarra, Dale Carley, A...                 Mexico   \n",
       "2  Vincenzo Crea, Jessica Cressy, Greta Scarano, ...                  Italy   \n",
       "3  Dylan Minnette, Piercey Dalton, Patricia Bethu...  Canada, United States   \n",
       "4  Shabana Azmi, Leela Samson, Sanjeeda Sheikh, S...                  India   \n",
       "\n",
       "          date_added  release_year rating duration  \\\n",
       "0     August 5, 2019          2019  TV-MA   59 min   \n",
       "1    August 21, 2020          2020  TV-MA   81 min   \n",
       "2  December 26, 2019          2019  TV-MA   79 min   \n",
       "3   January 19, 2018          2018  TV-MA      NaN   \n",
       "4   October 30, 2020          2020  TV-14      NaN   \n",
       "\n",
       "                                           listed_in  \\\n",
       "0                Documentaries, International Movies   \n",
       "1  Horror Movies, Independent Movies, Internation...   \n",
       "2   Dramas, Independent Movies, International Movies   \n",
       "3                           Horror Movies, Thrillers   \n",
       "4                Horror Movies, International Movies   \n",
       "\n",
       "                                         description  \n",
       "0  What is anime? Through deep-dives with notable...  \n",
       "1  In search of his sister, a renegade criminal s...  \n",
       "2  While in Rome to shoot his first movie, actor ...  \n",
       "3  Following a tragedy, a mother and her teen son...  \n",
       "4  When a restless spirit curses a village that h...  "
      ]
     },
     "execution_count": 1,
     "metadata": {},
     "output_type": "execute_result"
    }
   ],
   "source": [
    "import pandas as pd\n",
    "import numpy as np\n",
    "\n",
    "import matplotlib.pyplot as plt\n",
    "import seaborn as sns\n",
    "\n"
   ]
  },
  {
   "cell_type": "code",
   "execution_count": 6,
   "id": "86ab0ed8",
   "metadata": {},
   "outputs": [
    {
     "data": {
      "text/html": [
       "<div>\n",
       "<style scoped>\n",
       "    .dataframe tbody tr th:only-of-type {\n",
       "        vertical-align: middle;\n",
       "    }\n",
       "\n",
       "    .dataframe tbody tr th {\n",
       "        vertical-align: top;\n",
       "    }\n",
       "\n",
       "    .dataframe thead th {\n",
       "        text-align: right;\n",
       "    }\n",
       "</style>\n",
       "<table border=\"1\" class=\"dataframe\">\n",
       "  <thead>\n",
       "    <tr style=\"text-align: right;\">\n",
       "      <th></th>\n",
       "      <th>Unnamed: 0</th>\n",
       "      <th>show_id</th>\n",
       "      <th>type</th>\n",
       "      <th>title</th>\n",
       "      <th>director</th>\n",
       "      <th>cast</th>\n",
       "      <th>country</th>\n",
       "      <th>date_added</th>\n",
       "      <th>release_year</th>\n",
       "      <th>rating</th>\n",
       "      <th>duration</th>\n",
       "      <th>listed_in</th>\n",
       "      <th>description</th>\n",
       "    </tr>\n",
       "  </thead>\n",
       "  <tbody>\n",
       "    <tr>\n",
       "      <th>0</th>\n",
       "      <td>0</td>\n",
       "      <td>s1</td>\n",
       "      <td>Movie</td>\n",
       "      <td>Dick Johnson Is Dead</td>\n",
       "      <td>Kirsten Johnson</td>\n",
       "      <td>NaN</td>\n",
       "      <td>United States</td>\n",
       "      <td>September 25, 2021</td>\n",
       "      <td>2020</td>\n",
       "      <td>PG-13</td>\n",
       "      <td>90 min</td>\n",
       "      <td>Documentaries</td>\n",
       "      <td>As her father nears the end of his life, filmm...</td>\n",
       "    </tr>\n",
       "    <tr>\n",
       "      <th>1</th>\n",
       "      <td>1</td>\n",
       "      <td>s2</td>\n",
       "      <td>TV Show</td>\n",
       "      <td>Blood &amp; Water</td>\n",
       "      <td>NaN</td>\n",
       "      <td>Ama Qamata, Khosi Ngema, Gail Mabalane, Thaban...</td>\n",
       "      <td>South Africa</td>\n",
       "      <td>September 24, 2021</td>\n",
       "      <td>2021</td>\n",
       "      <td>TV-MA</td>\n",
       "      <td>2 Seasons</td>\n",
       "      <td>International TV Shows, TV Dramas, TV Mysteries</td>\n",
       "      <td>After crossing paths at a party, a Cape Town t...</td>\n",
       "    </tr>\n",
       "    <tr>\n",
       "      <th>2</th>\n",
       "      <td>2</td>\n",
       "      <td>s3</td>\n",
       "      <td>TV Show</td>\n",
       "      <td>Ganglands</td>\n",
       "      <td>Julien Leclercq</td>\n",
       "      <td>Sami Bouajila, Tracy Gotoas, Samuel Jouy, Nabi...</td>\n",
       "      <td>NaN</td>\n",
       "      <td>September 24, 2021</td>\n",
       "      <td>2021</td>\n",
       "      <td>TV-MA</td>\n",
       "      <td>NaN</td>\n",
       "      <td>Crime TV Shows, International TV Shows, TV Act...</td>\n",
       "      <td>To protect his family from a powerful drug lor...</td>\n",
       "    </tr>\n",
       "    <tr>\n",
       "      <th>3</th>\n",
       "      <td>3</td>\n",
       "      <td>s4</td>\n",
       "      <td>TV Show</td>\n",
       "      <td>Jailbirds New Orleans</td>\n",
       "      <td>NaN</td>\n",
       "      <td>NaN</td>\n",
       "      <td>NaN</td>\n",
       "      <td>September 24, 2021</td>\n",
       "      <td>2021</td>\n",
       "      <td>TV-MA</td>\n",
       "      <td>NaN</td>\n",
       "      <td>Docuseries, Reality TV</td>\n",
       "      <td>Feuds, flirtations and toilet talk go down amo...</td>\n",
       "    </tr>\n",
       "    <tr>\n",
       "      <th>4</th>\n",
       "      <td>4</td>\n",
       "      <td>s5</td>\n",
       "      <td>TV Show</td>\n",
       "      <td>Kota Factory</td>\n",
       "      <td>NaN</td>\n",
       "      <td>Mayur More, Jitendra Kumar, Ranjan Raj, Alam K...</td>\n",
       "      <td>India</td>\n",
       "      <td>September 24, 2021</td>\n",
       "      <td>2021</td>\n",
       "      <td>TV-MA</td>\n",
       "      <td>2 Seasons</td>\n",
       "      <td>International TV Shows, Romantic TV Shows, TV ...</td>\n",
       "      <td>In a city of coaching centers known to train I...</td>\n",
       "    </tr>\n",
       "  </tbody>\n",
       "</table>\n",
       "</div>"
      ],
      "text/plain": [
       "   Unnamed: 0 show_id     type                  title         director  \\\n",
       "0           0      s1    Movie   Dick Johnson Is Dead  Kirsten Johnson   \n",
       "1           1      s2  TV Show          Blood & Water              NaN   \n",
       "2           2      s3  TV Show              Ganglands  Julien Leclercq   \n",
       "3           3      s4  TV Show  Jailbirds New Orleans              NaN   \n",
       "4           4      s5  TV Show           Kota Factory              NaN   \n",
       "\n",
       "                                                cast        country  \\\n",
       "0                                                NaN  United States   \n",
       "1  Ama Qamata, Khosi Ngema, Gail Mabalane, Thaban...   South Africa   \n",
       "2  Sami Bouajila, Tracy Gotoas, Samuel Jouy, Nabi...            NaN   \n",
       "3                                                NaN            NaN   \n",
       "4  Mayur More, Jitendra Kumar, Ranjan Raj, Alam K...          India   \n",
       "\n",
       "           date_added  release_year rating   duration  \\\n",
       "0  September 25, 2021          2020  PG-13     90 min   \n",
       "1  September 24, 2021          2021  TV-MA  2 Seasons   \n",
       "2  September 24, 2021          2021  TV-MA        NaN   \n",
       "3  September 24, 2021          2021  TV-MA        NaN   \n",
       "4  September 24, 2021          2021  TV-MA  2 Seasons   \n",
       "\n",
       "                                           listed_in  \\\n",
       "0                                      Documentaries   \n",
       "1    International TV Shows, TV Dramas, TV Mysteries   \n",
       "2  Crime TV Shows, International TV Shows, TV Act...   \n",
       "3                             Docuseries, Reality TV   \n",
       "4  International TV Shows, Romantic TV Shows, TV ...   \n",
       "\n",
       "                                         description  \n",
       "0  As her father nears the end of his life, filmm...  \n",
       "1  After crossing paths at a party, a Cape Town t...  \n",
       "2  To protect his family from a powerful drug lor...  \n",
       "3  Feuds, flirtations and toilet talk go down amo...  \n",
       "4  In a city of coaching centers known to train I...  "
      ]
     },
     "execution_count": 6,
     "metadata": {},
     "output_type": "execute_result"
    }
   ],
   "source": [
    "df_Netflix = pd.read_csv (\"datos/netflix_titles.csv\")\n",
    "df_Netflix.head()"
   ]
  },
  {
   "cell_type": "markdown",
   "id": "4bef9a37",
   "metadata": {},
   "source": [
    "#### Ejercicio 1: ¿Cuántos títulos por tipo (Películas vs Series) tenemos?. En esta gráfica deberás: \n",
    "\n",
    "- Incluir un título. \n",
    "\n",
    "- Cambiar el nombre de los ejes X e Y. \n",
    "\n",
    "- Cambiar el color de las barras. "
   ]
  },
  {
   "cell_type": "code",
   "execution_count": 16,
   "id": "37f8aece",
   "metadata": {},
   "outputs": [
    {
     "name": "stderr",
     "output_type": "stream",
     "text": [
      "C:\\Users\\Administrador\\AppData\\Local\\Temp\\ipykernel_15324\\3869106984.py:5: FutureWarning: \n",
      "\n",
      "Passing `palette` without assigning `hue` is deprecated and will be removed in v0.14.0. Assign the `x` variable to `hue` and set `legend=False` for the same effect.\n",
      "\n",
      "  sns.barplot(x=conteo_por_tipo.index, y=conteo_por_tipo.values, palette=\"rocket\")\n"
     ]
    },
    {
     "data": {
      "image/png": "[encoded data removed]",
      "text/plain": [
       "<Figure size 1000x600 with 1 Axes>"
      ]
     },
     "metadata": {},
     "output_type": "display_data"
    }
   ],
   "source": [
    "conteo_por_tipo = df_Netflix['type'].value_counts()\n",
    "\n",
    "\n",
    "plt.figure(figsize=(10,6))\n",
    "sns.barplot(x=conteo_por_tipo.index, y=conteo_por_tipo.values, palette=\"rocket\")\n",
    "\n",
    "\n",
    "plt.title('Cantidad de Títulos por Tipo (Películas vs Series)', fontsize=16)\n",
    "plt.xlabel('Tipo', fontsize=12)\n",
    "plt.ylabel('Cantidad de Títulos', fontsize=12)\n",
    "\n",
    "#sns.color_palette(\"rocket\", as_cmap=True)\n",
    "plt.show()\n",
    "\n",
    "\n",
    "\n",
    "\n",
    "\n",
    "\n",
    "\n"
   ]
  },
  {
   "cell_type": "markdown",
   "id": "0a053bca",
   "metadata": {},
   "source": [
    "#### Ejercicio 2: ¿Cuál es la distribución de calificaciones (rating) en los títulos? En esta gráfica deberás:\n",
    "\n",
    "- Mostrar los resultados ordenados de mayor a menor. \n",
    "\n",
    "- Rotar las etiquetas del eje X. \n",
    "\n",
    "- Quitar el nombre del eje X. \n",
    "\n",
    "- Cambiar el nombre del ehje Y. \n",
    "\n",
    "- Ponerle título a la gráfica. \n",
    "\n"
   ]
  },
  {
   "cell_type": "code",
   "execution_count": 18,
   "id": "d37f6a6e",
   "metadata": {},
   "outputs": [
    {
     "name": "stderr",
     "output_type": "stream",
     "text": [
      "C:\\Users\\Administrador\\AppData\\Local\\Temp\\ipykernel_15324\\944149261.py:4: FutureWarning: \n",
      "\n",
      "Passing `palette` without assigning `hue` is deprecated and will be removed in v0.14.0. Assign the `x` variable to `hue` and set `legend=False` for the same effect.\n",
      "\n",
      "  sns.barplot(x=conteo_rating.index, y=conteo_rating.values, palette=\"hls\")\n"
     ]
    },
    {
     "data": {
      "image/png": "[encoded data removed]",
      "text/plain": [
       "<Figure size 1000x600 with 1 Axes>"
      ]
     },
     "metadata": {},
     "output_type": "display_data"
    }
   ],
   "source": [
    "conteo_rating = df_Netflix['rating'].value_counts().sort_values(ascending=False)\n",
    "\n",
    "plt.figure(figsize=(10,6))\n",
    "sns.barplot(x=conteo_rating.index, y=conteo_rating.values, palette=\"hls\")\n",
    "\n",
    "plt.title('Distribución de Calificaciones (Rating) en los Títulos', fontsize=16)\n",
    "plt.xlabel('') \n",
    "plt.ylabel('Cantidad de Títulos', fontsize=12) \n",
    "plt.xticks(rotation=45) \n",
    "\n",
    "plt.show()\n"
   ]
  },
  {
   "cell_type": "markdown",
   "id": "99171b1e",
   "metadata": {},
   "source": [
    "#### Ejercicio 3: ¿Cuál es el top 10 de países con más títulos disponibles? Deberás:\n",
    "\n",
    "- Poner nombre a la ejes. \n",
    "\n",
    "- Poner título a la gráfica. \n",
    "\n",
    "- Rotar las etiquetas del eje X. \n",
    "\n"
   ]
  },
  {
   "cell_type": "code",
   "execution_count": 21,
   "id": "d71e386a",
   "metadata": {},
   "outputs": [
    {
     "name": "stderr",
     "output_type": "stream",
     "text": [
      "C:\\Users\\Administrador\\AppData\\Local\\Temp\\ipykernel_15324\\4074727562.py:4: FutureWarning: \n",
      "\n",
      "Passing `palette` without assigning `hue` is deprecated and will be removed in v0.14.0. Assign the `x` variable to `hue` and set `legend=False` for the same effect.\n",
      "\n",
      "  sns.barplot(x=conteo_rating.index, y=conteo_rating.values, palette=\"hls\")\n"
     ]
    },
    {
     "data": {
      "image/png": "[encoded data removed]",
      "text/plain": [
       "<Figure size 1000x600 with 1 Axes>"
      ]
     },
     "metadata": {},
     "output_type": "display_data"
    }
   ],
   "source": [
    "top_10_paises = df_Netflix['country'].value_counts().sort_values(ascending=False).head(10)\n",
    "\n",
    "plt.figure(figsize=(10,6))\n",
    "sns.barplot(x=conteo_rating.index, y=conteo_rating.values, palette=\"hls\")\n",
    "\n",
    "plt.title('Top 10 de países con mas titulos disponibles', fontsize=16)\n",
    "plt.xlabel('Países') \n",
    "plt.ylabel('Cantidad de Títulos', fontsize=12) \n",
    "plt.xticks(rotation=45) \n",
    "\n",
    "plt.show()"
   ]
  },
  {
   "cell_type": "markdown",
   "id": "40bec63e",
   "metadata": {},
   "source": [
    "#### Ejercicio 5: ¿Cuál es la puntuación promedio de las películas según su calificación? Deberás:\n",
    "\n",
    "\n",
    "- Poner nombre a la ejes. \n",
    "\n",
    "- Poner título a la gráfica. \n",
    "\n",
    "- Rotar las etiquetas del eje X. \n",
    "\n",
    "- Cambia el tamaño de la gráfica a 15 x 5"
   ]
  },
  {
   "cell_type": "code",
   "execution_count": null,
   "id": "8b073944",
   "metadata": {},
   "outputs": [],
   "source": [
    "\n"
   ]
  },
  {
   "cell_type": "markdown",
   "id": "9cf328ea",
   "metadata": {},
   "source": [
    "#### Ejercicio 6: ¿Cuál es la relación entre la duración de las películas y su puntuación en IMDb? Deberás:\n",
    "\n",
    "- Cambiar el tamaño de los puntos. \n",
    "\n",
    "- Poner nombre a la ejes. \n",
    "\n",
    "- Poner título a la gráfica. \n"
   ]
  },
  {
   "cell_type": "code",
   "execution_count": null,
   "id": "dfcb9a7d",
   "metadata": {},
   "outputs": [],
   "source": []
  },
  {
   "cell_type": "markdown",
   "id": "9a5c1174",
   "metadata": {},
   "source": [
    "#### Ejercicio 7: ¿Cómo se distribuye la puntuación en IMDb según los 10 idiomas más usados? Deberás:\n",
    "\n",
    "- Usa una gráfica que nos muestre la mediana y los cuartiles. \n",
    "\n",
    "- Poner nombre a la ejes. \n",
    "\n",
    "- Poner título a la gráfica. \n",
    "\n",
    "- Rota las etiquetas del eje X. "
   ]
  },
  {
   "cell_type": "code",
   "execution_count": null,
   "id": "3b352967",
   "metadata": {},
   "outputs": [],
   "source": []
  },
  {
   "cell_type": "markdown",
   "id": "27f1cb9c",
   "metadata": {},
   "source": [
    "#### Ejercicio 8: ¿Cuáles son los 10 directores que tienen las puntuaciones más altas?\n",
    "\n",
    "- Poner nombre a la ejes. \n",
    "\n",
    "- Poner título a la gráfica. \n",
    "\n",
    "- Rota las etiquetas del eje X. \n",
    "\n",
    "- Cambiar el tamaño de la gráfica. \n",
    "\n"
   ]
  },
  {
   "cell_type": "code",
   "execution_count": null,
   "id": "e2176b69",
   "metadata": {},
   "outputs": [],
   "source": []
  },
  {
   "cell_type": "markdown",
   "id": "2235902f",
   "metadata": {},
   "source": [
    "#### Ejercicio 9:  ¿Cuál es la distribución de títulos por tipo y calificación? Soluciona este ejercicio usando subplots. Deberás:\n",
    "\n",
    "- Poner nombre a la ejes. \n",
    "\n",
    "- Poner título a la gráfica. \n",
    "\n",
    "- Rota las etiquetas del eje X. \n"
   ]
  },
  {
   "cell_type": "code",
   "execution_count": null,
   "id": "13c6d052",
   "metadata": {},
   "outputs": [],
   "source": []
  },
  {
   "cell_type": "markdown",
   "id": "3c7de419",
   "metadata": {},
   "source": [
    "#### Ejercicio 10: ¿Cómo se distribuyen los títulos por país para los 6 principales países? Tienes que crear una gráfica para cada país mostrando los resultados en un subplot. Deberás: \n",
    "\n",
    "- Poner nombre a la ejes. \n",
    "\n",
    "- Poner título a la gráfica. \n",
    "\n",
    "- Rota las etiquetas del eje X. \n",
    "\n"
   ]
  },
  {
   "cell_type": "code",
   "execution_count": null,
   "id": "d8126483",
   "metadata": {},
   "outputs": [],
   "source": []
  },
  {
   "cell_type": "markdown",
   "id": "8639ca42",
   "metadata": {},
   "source": [
    "#### Ejercicio 11: ¿Cuál es total de tipos de calificaciones, considerando solo los principales 5 países? Deberás:\n",
    "\n",
    "- Poner nombre a la ejes. \n",
    "\n",
    "- Poner título a la gráfica. \n",
    "\n",
    "- Rota las etiquetas del eje X. "
   ]
  },
  {
   "cell_type": "code",
   "execution_count": null,
   "id": "40a316df",
   "metadata": {},
   "outputs": [],
   "source": []
  },
  {
   "cell_type": "markdown",
   "id": "54de71ba",
   "metadata": {},
   "source": [
    "#### Ejercicio 12: ¿Cómo se distribuyen las 5 primeras calificaciones  a lo largo de los aúltimo 10 años? \n",
    "\n",
    "- Poner nombre a la ejes. \n",
    "\n",
    "- Poner título a la gráfica. \n",
    "\n",
    "- Rota las etiquetas del eje X. \n",
    "\n",
    "- Elimina el nombre del eje X. "
   ]
  },
  {
   "cell_type": "code",
   "execution_count": null,
   "id": "ebfad69b",
   "metadata": {},
   "outputs": [],
   "source": []
  },
  {
   "cell_type": "markdown",
   "id": "0b3d25ed",
   "metadata": {},
   "source": [
    "\n",
    "### BONUS\n",
    "\n",
    "#### Ejercicio 13: ¿Cómo ha evolucionado la cantidad de títulos añadidos a lo largo de los años diferenciando entre Películas y Series?\n",
    "\n",
    "- Poner nombre a la ejes. \n",
    "\n",
    "- Poner título a la gráfica. \n",
    "\n",
    "- Rota las etiquetas del eje X. \n",
    "\n",
    "- Elimina el nombre del eje X. \n",
    "\n",
    "- Añade una *grid* al gráfico. "
   ]
  },
  {
   "cell_type": "code",
   "execution_count": null,
   "id": "de6ff8eb",
   "metadata": {},
   "outputs": [],
   "source": []
  },
  {
   "cell_type": "markdown",
   "id": "6184442d",
   "metadata": {},
   "source": [
    "#### Ejercicio 14: ¿Cómo se distribuyen los títulos según su calificación (rating)? Utiliza un gráfico de “quesitos” para visualizar la proporción de títulos en cada categoría de calificación."
   ]
  },
  {
   "cell_type": "code",
   "execution_count": null,
   "id": "19149eb2",
   "metadata": {},
   "outputs": [],
   "source": []
  },
  {
   "cell_type": "markdown",
   "id": "e26502f5",
   "metadata": {},
   "source": [
    "#### Ejercicio 15: ¿Cómo se distribuyen los títulos según su calificación (rating) y tipo (Películas vs Series)? Utiliza un gráfico countplot con el parámetro hue para diferenciar entre películas y series en cada calificación."
   ]
  },
  {
   "cell_type": "code",
   "execution_count": null,
   "id": "464cfdeb",
   "metadata": {},
   "outputs": [],
   "source": []
  }
 ],
 "metadata": {
  "kernelspec": {
   "display_name": "Python 3",
   "language": "python",
   "name": "python3"
  },
  "language_info": {
   "codemirror_mode": {
    "name": "ipython",
    "version": 3
   },
   "file_extension": ".py",
   "mimetype": "text/x-python",
   "name": "python",
   "nbconvert_exporter": "python",
   "pygments_lexer": "ipython3",
   "version": "3.12.6"
  }
 },
 "nbformat": 4,
 "nbformat_minor": 5
}
